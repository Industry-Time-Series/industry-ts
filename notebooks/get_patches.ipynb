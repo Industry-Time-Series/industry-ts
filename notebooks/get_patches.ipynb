{
 "cells": [
  {
   "cell_type": "markdown",
   "metadata": {},
   "source": [
    "# Dealing with discontinuities in time series data"
   ]
  },
  {
   "cell_type": "markdown",
   "metadata": {},
   "source": [
    "When dealing with time series data, it is often the case that there are\n",
    "discontinuities in the data. For example, a sensor may have been turned off for\n",
    "a period of time, or a sensor may have been replaced with a new sensor.\n",
    "In these cases, there will be a discontinuity in the data, and it is important\n",
    "to be able to identify these discontinuities and deal with them appropriately."
   ]
  },
  {
   "cell_type": "code",
   "execution_count": 1,
   "metadata": {},
   "outputs": [],
   "source": [
    "import os\n",
    "os.chdir(\"../src/\")"
   ]
  },
  {
   "cell_type": "code",
   "execution_count": 5,
   "metadata": {},
   "outputs": [],
   "source": [
    "from industryts.generation.synthetic import discontinuous_timeseries\n",
    "from industryts.processing.filtering import get_continuous_patches"
   ]
  },
  {
   "cell_type": "markdown",
   "metadata": {},
   "source": [
    "First we generate a discontinuous time series data using the generation module\n",
    "of this library."
   ]
  },
  {
   "cell_type": "code",
   "execution_count": 3,
   "metadata": {},
   "outputs": [
    {
     "data": {
      "text/plain": [
       "2023-01-01    0.249245\n",
       "2023-01-02    0.039082\n",
       "2023-01-03    0.828572\n",
       "2023-01-04    0.408698\n",
       "2023-01-05    0.811290\n",
       "                ...   \n",
       "2023-12-27    0.358666\n",
       "2023-12-28    0.161430\n",
       "2023-12-29    0.318483\n",
       "2023-12-30    0.822197\n",
       "2023-12-31    0.624494\n",
       "Length: 325, dtype: float64"
      ]
     },
     "execution_count": 3,
     "metadata": {},
     "output_type": "execute_result"
    }
   ],
   "source": [
    "start_date = \"2023-01-01\"\n",
    "end_date = \"2023-12-31\"\n",
    "frequency = \"1D\"\n",
    "\n",
    "n_discontinuities = 40\n",
    "\n",
    "timeseries = discontinuous_timeseries(\n",
    "    start_date, end_date, frequency, n_discontinuities)\n",
    "timeseries"
   ]
  },
  {
   "cell_type": "markdown",
   "metadata": {},
   "source": [
    "Then we get the continuous patches of the data using the get_patches function.\n",
    "Each element in the list is a dict with keys start and end of the patch."
   ]
  },
  {
   "cell_type": "code",
   "execution_count": 6,
   "metadata": {},
   "outputs": [
    {
     "data": {
      "text/plain": [
       "[{'start': Timestamp('2023-01-01 00:00:00'),\n",
       "  'end': Timestamp('2023-01-12 00:00:00')},\n",
       " {'start': Timestamp('2023-01-16 00:00:00'),\n",
       "  'end': Timestamp('2023-01-16 00:00:00')},\n",
       " {'start': Timestamp('2023-01-18 00:00:00'),\n",
       "  'end': Timestamp('2023-01-20 00:00:00')},\n",
       " {'start': Timestamp('2023-01-23 00:00:00'),\n",
       "  'end': Timestamp('2023-01-24 00:00:00')},\n",
       " {'start': Timestamp('2023-01-26 00:00:00'),\n",
       "  'end': Timestamp('2023-02-01 00:00:00')},\n",
       " {'start': Timestamp('2023-02-03 00:00:00'),\n",
       "  'end': Timestamp('2023-02-13 00:00:00')},\n",
       " {'start': Timestamp('2023-02-15 00:00:00'),\n",
       "  'end': Timestamp('2023-02-18 00:00:00')},\n",
       " {'start': Timestamp('2023-02-20 00:00:00'),\n",
       "  'end': Timestamp('2023-03-02 00:00:00')},\n",
       " {'start': Timestamp('2023-03-04 00:00:00'),\n",
       "  'end': Timestamp('2023-03-09 00:00:00')},\n",
       " {'start': Timestamp('2023-03-11 00:00:00'),\n",
       "  'end': Timestamp('2023-03-21 00:00:00')},\n",
       " {'start': Timestamp('2023-03-23 00:00:00'),\n",
       "  'end': Timestamp('2023-03-23 00:00:00')},\n",
       " {'start': Timestamp('2023-03-25 00:00:00'),\n",
       "  'end': Timestamp('2023-04-05 00:00:00')},\n",
       " {'start': Timestamp('2023-04-07 00:00:00'),\n",
       "  'end': Timestamp('2023-04-10 00:00:00')},\n",
       " {'start': Timestamp('2023-04-12 00:00:00'),\n",
       "  'end': Timestamp('2023-04-16 00:00:00')},\n",
       " {'start': Timestamp('2023-04-18 00:00:00'),\n",
       "  'end': Timestamp('2023-04-23 00:00:00')},\n",
       " {'start': Timestamp('2023-04-25 00:00:00'),\n",
       "  'end': Timestamp('2023-04-27 00:00:00')},\n",
       " {'start': Timestamp('2023-04-29 00:00:00'),\n",
       "  'end': Timestamp('2023-05-15 00:00:00')},\n",
       " {'start': Timestamp('2023-05-17 00:00:00'),\n",
       "  'end': Timestamp('2023-05-23 00:00:00')},\n",
       " {'start': Timestamp('2023-05-25 00:00:00'),\n",
       "  'end': Timestamp('2023-06-12 00:00:00')},\n",
       " {'start': Timestamp('2023-06-14 00:00:00'),\n",
       "  'end': Timestamp('2023-06-20 00:00:00')},\n",
       " {'start': Timestamp('2023-06-22 00:00:00'),\n",
       "  'end': Timestamp('2023-06-26 00:00:00')},\n",
       " {'start': Timestamp('2023-06-28 00:00:00'),\n",
       "  'end': Timestamp('2023-07-03 00:00:00')},\n",
       " {'start': Timestamp('2023-07-05 00:00:00'),\n",
       "  'end': Timestamp('2023-07-06 00:00:00')},\n",
       " {'start': Timestamp('2023-07-08 00:00:00'),\n",
       "  'end': Timestamp('2023-07-13 00:00:00')},\n",
       " {'start': Timestamp('2023-07-15 00:00:00'),\n",
       "  'end': Timestamp('2023-07-17 00:00:00')},\n",
       " {'start': Timestamp('2023-07-19 00:00:00'),\n",
       "  'end': Timestamp('2023-07-27 00:00:00')},\n",
       " {'start': Timestamp('2023-07-29 00:00:00'),\n",
       "  'end': Timestamp('2023-09-16 00:00:00')},\n",
       " {'start': Timestamp('2023-09-18 00:00:00'),\n",
       "  'end': Timestamp('2023-09-25 00:00:00')},\n",
       " {'start': Timestamp('2023-09-27 00:00:00'),\n",
       "  'end': Timestamp('2023-10-04 00:00:00')},\n",
       " {'start': Timestamp('2023-10-06 00:00:00'),\n",
       "  'end': Timestamp('2023-10-11 00:00:00')},\n",
       " {'start': Timestamp('2023-10-13 00:00:00'),\n",
       "  'end': Timestamp('2023-11-09 00:00:00')},\n",
       " {'start': Timestamp('2023-11-11 00:00:00'),\n",
       "  'end': Timestamp('2023-11-13 00:00:00')},\n",
       " {'start': Timestamp('2023-11-15 00:00:00'),\n",
       "  'end': Timestamp('2023-11-24 00:00:00')},\n",
       " {'start': Timestamp('2023-11-26 00:00:00'),\n",
       "  'end': Timestamp('2023-11-28 00:00:00')},\n",
       " {'start': Timestamp('2023-11-30 00:00:00'),\n",
       "  'end': Timestamp('2023-12-07 00:00:00')},\n",
       " {'start': Timestamp('2023-12-09 00:00:00'),\n",
       "  'end': Timestamp('2023-12-17 00:00:00')},\n",
       " {'start': Timestamp('2023-12-20 00:00:00'),\n",
       "  'end': Timestamp('2023-12-31 00:00:00')}]"
      ]
     },
     "execution_count": 6,
     "metadata": {},
     "output_type": "execute_result"
    }
   ],
   "source": [
    "patches = get_continuous_patches(timeseries, frequency)\n",
    "patches"
   ]
  },
  {
   "cell_type": "markdown",
   "metadata": {},
   "source": [
    "Now we can use each of these continuous patches to apply analysis that\n",
    "requires continuous data."
   ]
  }
 ],
 "metadata": {
  "kernelspec": {
   "display_name": "modelo_qualidade",
   "language": "python",
   "name": "python3"
  },
  "language_info": {
   "codemirror_mode": {
    "name": "ipython",
    "version": 3
   },
   "file_extension": ".py",
   "mimetype": "text/x-python",
   "name": "python",
   "nbconvert_exporter": "python",
   "pygments_lexer": "ipython3",
   "version": "3.8.16"
  }
 },
 "nbformat": 4,
 "nbformat_minor": 2
}
